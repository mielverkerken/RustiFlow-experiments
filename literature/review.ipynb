{
 "cells": [
  {
   "cell_type": "code",
   "execution_count": 3,
   "metadata": {},
   "outputs": [
    {
     "name": "stdout",
     "output_type": "stream",
     "text": [
      "Pandas version: 2.2.3\n",
      "NumPy version: 2.1.1\n"
     ]
    }
   ],
   "source": [
    "import pandas as pd\n",
    "import numpy as np\n",
    "\n",
    "from matplotlib import pyplot as plt\n",
    "from matplotlib.patches import Patch\n",
    "from matplotlib.ticker import FuncFormatter\n",
    "import seaborn as sns\n",
    "import os\n",
    "\n",
    "print(\"Pandas version: {}\".format(pd.__version__))\n",
    "print(\"NumPy version: {}\".format(np.__version__))"
   ]
  },
  {
   "cell_type": "code",
   "execution_count": 2,
   "metadata": {},
   "outputs": [],
   "source": [
    "paper_dir = \"/mnt/c/Users/mverkerk/OneDrive - UGent/RustiFlow/literature\""
   ]
  },
  {
   "cell_type": "code",
   "execution_count": 4,
   "metadata": {},
   "outputs": [
    {
     "name": "stdout",
     "output_type": "stream",
     "text": [
      "['100.pdf', '101.pdf', '102.pdf', '103.pdf', '104.pdf', '105.pdf', '106.pdf', '107.pdf', '108.pdf', '109.pdf', '110.pdf', '111.pdf', '112.pdf', '113.pdf', '114.pdf', '115.pdf', '116.pdf', '117.pdf', '118.pdf', '119.pdf', '120.pdf', '121.pdf', '122.pdf', '123.pdf', '124.pdf', '125.pdf', '126.pdf', '127.pdf', '128.pdf', '129.pdf', '130.pdf', '131.pdf', '132.pdf', '133.pdf', '134.pdf', '135.pdf', '136.pdf', '137.pdf', '138.pdf', '139.pdf', '140.pdf', '141.pdf', '142.pdf', '143.pdf', '144.pdf', '145.pdf', '146.pdf', '147.pdf', '148.pdf', '149.pdf', '150.pdf', '151.pdf', '152.pdf', '153.pdf', '154.pdf', '155.pdf', '156.pdf', '157.pdf', '158.pdf', '159.pdf', '160.pdf', '161.pdf', '162.pdf', '163.pdf', '164.pdf', '165.pdf', '166.pdf', '167.pdf', '168.pdf', '169.pdf', '170.pdf', '171.pdf', '172.pdf', '173.pdf', '174.pdf', '175.pdf', '176.pdf', '177.pdf', '178.pdf', '179.pdf', '180.pdf', '181.pdf', '182.pdf', '183.pdf', '184.pdf', '185.pdf', '186.pdf', '187.pdf', '188.pdf', '189.pdf', '190.pdf', '191.pdf', '192.pdf', '193.pdf', '194.pdf', '195.pdf', '196.pdf', '197.pdf', '198.pdf', '199.pdf', '200.pdf', '46.pdf', '47.pdf', '48.pdf', '49.pdf', '50.pdf', '51.pdf', '52.pdf', '53.pdf', '54.pdf', '55.pdf', '56.pdf', '57.pdf', '58.pdf', '59.pdf', '60.pdf', '61.pdf', '62.pdf', '63.pdf', '64.pdf', '65.pdf', '66.pdf', '67.pdf', '68.pdf', '69.pdf', '70.pdf', '71.pdf', '72.pdf', '73.pdf', '74.pdf', '75.pdf', '76.pdf', '77.pdf', '78.pdf', '79.pdf', '80.pdf', '81.pdf', '82.pdf', '83.pdf', '84.pdf', '85.pdf', '86.pdf', '87.pdf', '88.pdf', '89.pdf', '90.pdf', '91.pdf', '92.pdf', '93.pdf', '94.pdf', '95.pdf', '96.pdf', '97.pdf', '98.pdf', '99.pdf']\n"
     ]
    }
   ],
   "source": [
    "files = os.listdir(paper_dir)\n",
    "print(files)"
   ]
  },
  {
   "cell_type": "code",
   "execution_count": 16,
   "metadata": {},
   "outputs": [
    {
     "name": "stdout",
     "output_type": "stream",
     "text": [
      "{'/Contents': [IndirectObject(5, 0, 140413407226240), IndirectObject(609, 0, 140413407226240), IndirectObject(6, 0, 140413407226240)], '/Type': '/Page', '/Resources': {'/ExtGState': {'/GS0': IndirectObject(610, 0, 140413407226240)}, '/ProcSet': ['/PDF', '/Text', '/ImageB', '/ImageC', '/ImageI'], '/Font': {'/T1_0': IndirectObject(13, 0, 140413407226240), '/T1_2': IndirectObject(11, 0, 140413407226240), '/T1_1': IndirectObject(611, 0, 140413407226240), '/T1_7': IndirectObject(612, 0, 140413407226240), '/T1_4': IndirectObject(15, 0, 140413407226240), '/T1_3': IndirectObject(613, 0, 140413407226240), '/T1_6': IndirectObject(16, 0, 140413407226240), '/T1_5': IndirectObject(12, 0, 140413407226240)}, '/XObject': {'/Fm2': IndirectObject(614, 0, 140413407226240), '/Fm0': IndirectObject(615, 0, 140413407226240), '/Fm1': IndirectObject(616, 0, 140413407226240), '/Xi0': IndirectObject(1, 0, 140413407226240), '/Xi1': IndirectObject(2, 0, 140413407226240)}}, '/Annots': [IndirectObject(617, 0, 140413407226240), IndirectObject(618, 0, 140413407226240), IndirectObject(619, 0, 140413407226240), IndirectObject(620, 0, 140413407226240), IndirectObject(621, 0, 140413407226240), IndirectObject(622, 0, 140413407226240), IndirectObject(623, 0, 140413407226240), IndirectObject(624, 0, 140413407226240), IndirectObject(625, 0, 140413407226240), IndirectObject(626, 0, 140413407226240), IndirectObject(627, 0, 140413407226240), IndirectObject(628, 0, 140413407226240), IndirectObject(629, 0, 140413407226240), IndirectObject(630, 0, 140413407226240), IndirectObject(631, 0, 140413407226240), IndirectObject(632, 0, 140413407226240), IndirectObject(633, 0, 140413407226240), IndirectObject(634, 0, 140413407226240), IndirectObject(635, 0, 140413407226240), IndirectObject(636, 0, 140413407226240), IndirectObject(637, 0, 140413407226240), IndirectObject(638, 0, 140413407226240), IndirectObject(3, 0, 140413407226240)], '/CropBox': [0, 0, 612, 792], '/Parent': IndirectObject(32, 0, 140413407226240), '/Rotate': 0, '/MediaBox': [0, 0, 612, 792]}\n"
     ]
    }
   ],
   "source": [
    "with open(\"/mnt/c/Users/mverkerk/OneDrive - UGent/RustiFlow/literature/169.pdf\", \"rb\") as f:\n",
    "    reader = pypdf.PdfReader(f)\n",
    "    print(reader.pages[0])"
   ]
  },
  {
   "cell_type": "code",
   "execution_count": 27,
   "metadata": {},
   "outputs": [
    {
     "name": "stdout",
     "output_type": "stream",
     "text": [
      "Processing /mnt/c/Users/mverkerk/OneDrive - UGent/RustiFlow/literature/100.pdf\n",
      "Processing /mnt/c/Users/mverkerk/OneDrive - UGent/RustiFlow/literature/101.pdf\n",
      "Processing /mnt/c/Users/mverkerk/OneDrive - UGent/RustiFlow/literature/102.pdf\n",
      "Processing /mnt/c/Users/mverkerk/OneDrive - UGent/RustiFlow/literature/103.pdf\n",
      "Processing /mnt/c/Users/mverkerk/OneDrive - UGent/RustiFlow/literature/104.pdf\n",
      "Processing /mnt/c/Users/mverkerk/OneDrive - UGent/RustiFlow/literature/105.pdf\n",
      "Processing /mnt/c/Users/mverkerk/OneDrive - UGent/RustiFlow/literature/106.pdf\n",
      "Processing /mnt/c/Users/mverkerk/OneDrive - UGent/RustiFlow/literature/107.pdf\n",
      "Processing /mnt/c/Users/mverkerk/OneDrive - UGent/RustiFlow/literature/108.pdf\n",
      "Processing /mnt/c/Users/mverkerk/OneDrive - UGent/RustiFlow/literature/109.pdf\n",
      "Processing /mnt/c/Users/mverkerk/OneDrive - UGent/RustiFlow/literature/110.pdf\n",
      "Processing /mnt/c/Users/mverkerk/OneDrive - UGent/RustiFlow/literature/111.pdf\n",
      "Processing /mnt/c/Users/mverkerk/OneDrive - UGent/RustiFlow/literature/112.pdf\n",
      "Processing /mnt/c/Users/mverkerk/OneDrive - UGent/RustiFlow/literature/113.pdf\n",
      "Processing /mnt/c/Users/mverkerk/OneDrive - UGent/RustiFlow/literature/114.pdf\n",
      "Processing /mnt/c/Users/mverkerk/OneDrive - UGent/RustiFlow/literature/115.pdf\n",
      "Processing /mnt/c/Users/mverkerk/OneDrive - UGent/RustiFlow/literature/116.pdf\n",
      "Processing /mnt/c/Users/mverkerk/OneDrive - UGent/RustiFlow/literature/117.pdf\n",
      "Processing /mnt/c/Users/mverkerk/OneDrive - UGent/RustiFlow/literature/118.pdf\n",
      "Processing /mnt/c/Users/mverkerk/OneDrive - UGent/RustiFlow/literature/119.pdf\n",
      "Processing /mnt/c/Users/mverkerk/OneDrive - UGent/RustiFlow/literature/120.pdf\n",
      "Processing /mnt/c/Users/mverkerk/OneDrive - UGent/RustiFlow/literature/121.pdf\n",
      "Processing /mnt/c/Users/mverkerk/OneDrive - UGent/RustiFlow/literature/122.pdf\n",
      "Processing /mnt/c/Users/mverkerk/OneDrive - UGent/RustiFlow/literature/123.pdf\n",
      "Processing /mnt/c/Users/mverkerk/OneDrive - UGent/RustiFlow/literature/124.pdf\n",
      "Processing /mnt/c/Users/mverkerk/OneDrive - UGent/RustiFlow/literature/125.pdf\n",
      "Processing /mnt/c/Users/mverkerk/OneDrive - UGent/RustiFlow/literature/126.pdf\n",
      "Processing /mnt/c/Users/mverkerk/OneDrive - UGent/RustiFlow/literature/127.pdf\n",
      "Processing /mnt/c/Users/mverkerk/OneDrive - UGent/RustiFlow/literature/128.pdf\n",
      "Processing /mnt/c/Users/mverkerk/OneDrive - UGent/RustiFlow/literature/129.pdf\n",
      "Processing /mnt/c/Users/mverkerk/OneDrive - UGent/RustiFlow/literature/130.pdf\n",
      "Processing /mnt/c/Users/mverkerk/OneDrive - UGent/RustiFlow/literature/131.pdf\n",
      "Processing /mnt/c/Users/mverkerk/OneDrive - UGent/RustiFlow/literature/132.pdf\n",
      "Processing /mnt/c/Users/mverkerk/OneDrive - UGent/RustiFlow/literature/133.pdf\n",
      "Processing /mnt/c/Users/mverkerk/OneDrive - UGent/RustiFlow/literature/134.pdf\n",
      "Processing /mnt/c/Users/mverkerk/OneDrive - UGent/RustiFlow/literature/135.pdf\n",
      "Processing /mnt/c/Users/mverkerk/OneDrive - UGent/RustiFlow/literature/136.pdf\n",
      "Processing /mnt/c/Users/mverkerk/OneDrive - UGent/RustiFlow/literature/137.pdf\n",
      "Processing /mnt/c/Users/mverkerk/OneDrive - UGent/RustiFlow/literature/138.pdf\n",
      "Processing /mnt/c/Users/mverkerk/OneDrive - UGent/RustiFlow/literature/139.pdf\n",
      "Processing /mnt/c/Users/mverkerk/OneDrive - UGent/RustiFlow/literature/140.pdf\n",
      "Processing /mnt/c/Users/mverkerk/OneDrive - UGent/RustiFlow/literature/141.pdf\n",
      "Processing /mnt/c/Users/mverkerk/OneDrive - UGent/RustiFlow/literature/142.pdf\n",
      "Processing /mnt/c/Users/mverkerk/OneDrive - UGent/RustiFlow/literature/143.pdf\n",
      "Processing /mnt/c/Users/mverkerk/OneDrive - UGent/RustiFlow/literature/144.pdf\n",
      "Processing /mnt/c/Users/mverkerk/OneDrive - UGent/RustiFlow/literature/145.pdf\n",
      "Processing /mnt/c/Users/mverkerk/OneDrive - UGent/RustiFlow/literature/146.pdf\n",
      "Processing /mnt/c/Users/mverkerk/OneDrive - UGent/RustiFlow/literature/147.pdf\n",
      "Processing /mnt/c/Users/mverkerk/OneDrive - UGent/RustiFlow/literature/148.pdf\n",
      "Processing /mnt/c/Users/mverkerk/OneDrive - UGent/RustiFlow/literature/149.pdf\n",
      "Processing /mnt/c/Users/mverkerk/OneDrive - UGent/RustiFlow/literature/150.pdf\n",
      "Processing /mnt/c/Users/mverkerk/OneDrive - UGent/RustiFlow/literature/151.pdf\n",
      "Processing /mnt/c/Users/mverkerk/OneDrive - UGent/RustiFlow/literature/152.pdf\n",
      "Processing /mnt/c/Users/mverkerk/OneDrive - UGent/RustiFlow/literature/153.pdf\n",
      "Processing /mnt/c/Users/mverkerk/OneDrive - UGent/RustiFlow/literature/154.pdf\n",
      "Processing /mnt/c/Users/mverkerk/OneDrive - UGent/RustiFlow/literature/155.pdf\n",
      "Processing /mnt/c/Users/mverkerk/OneDrive - UGent/RustiFlow/literature/156.pdf\n",
      "Processing /mnt/c/Users/mverkerk/OneDrive - UGent/RustiFlow/literature/157.pdf\n",
      "Processing /mnt/c/Users/mverkerk/OneDrive - UGent/RustiFlow/literature/158.pdf\n",
      "Processing /mnt/c/Users/mverkerk/OneDrive - UGent/RustiFlow/literature/159.pdf\n",
      "Processing /mnt/c/Users/mverkerk/OneDrive - UGent/RustiFlow/literature/160.pdf\n",
      "Processing /mnt/c/Users/mverkerk/OneDrive - UGent/RustiFlow/literature/161.pdf\n",
      "Processing /mnt/c/Users/mverkerk/OneDrive - UGent/RustiFlow/literature/162.pdf\n",
      "Processing /mnt/c/Users/mverkerk/OneDrive - UGent/RustiFlow/literature/163.pdf\n",
      "Processing /mnt/c/Users/mverkerk/OneDrive - UGent/RustiFlow/literature/164.pdf\n"
     ]
    },
    {
     "name": "stderr",
     "output_type": "stream",
     "text": [
      "incorrect startxref pointer(1)\n"
     ]
    },
    {
     "name": "stdout",
     "output_type": "stream",
     "text": [
      "Processing /mnt/c/Users/mverkerk/OneDrive - UGent/RustiFlow/literature/165.pdf\n",
      "Processing /mnt/c/Users/mverkerk/OneDrive - UGent/RustiFlow/literature/166.pdf\n",
      "Processing /mnt/c/Users/mverkerk/OneDrive - UGent/RustiFlow/literature/167.pdf\n",
      "Processing /mnt/c/Users/mverkerk/OneDrive - UGent/RustiFlow/literature/168.pdf\n"
     ]
    },
    {
     "name": "stderr",
     "output_type": "stream",
     "text": [
      "parsing for Object Streams\n",
      "Cannot find \"/Root\" key in trailer\n",
      "Searching object with \"/Catalog\" key\n"
     ]
    },
    {
     "name": "stdout",
     "output_type": "stream",
     "text": [
      "Failed to process /mnt/c/Users/mverkerk/OneDrive - UGent/RustiFlow/literature/168.pdf: Cannot find Root object in pdf\n",
      "Processing /mnt/c/Users/mverkerk/OneDrive - UGent/RustiFlow/literature/169.pdf\n",
      "Processing /mnt/c/Users/mverkerk/OneDrive - UGent/RustiFlow/literature/170.pdf\n",
      "Processing /mnt/c/Users/mverkerk/OneDrive - UGent/RustiFlow/literature/171.pdf\n",
      "Processing /mnt/c/Users/mverkerk/OneDrive - UGent/RustiFlow/literature/172.pdf\n",
      "Processing /mnt/c/Users/mverkerk/OneDrive - UGent/RustiFlow/literature/173.pdf\n",
      "Processing /mnt/c/Users/mverkerk/OneDrive - UGent/RustiFlow/literature/174.pdf\n",
      "Processing /mnt/c/Users/mverkerk/OneDrive - UGent/RustiFlow/literature/175.pdf\n",
      "Processing /mnt/c/Users/mverkerk/OneDrive - UGent/RustiFlow/literature/176.pdf\n",
      "Processing /mnt/c/Users/mverkerk/OneDrive - UGent/RustiFlow/literature/177.pdf\n",
      "Processing /mnt/c/Users/mverkerk/OneDrive - UGent/RustiFlow/literature/178.pdf\n",
      "Processing /mnt/c/Users/mverkerk/OneDrive - UGent/RustiFlow/literature/179.pdf\n",
      "Processing /mnt/c/Users/mverkerk/OneDrive - UGent/RustiFlow/literature/180.pdf\n",
      "Processing /mnt/c/Users/mverkerk/OneDrive - UGent/RustiFlow/literature/181.pdf\n",
      "Processing /mnt/c/Users/mverkerk/OneDrive - UGent/RustiFlow/literature/182.pdf\n",
      "Processing /mnt/c/Users/mverkerk/OneDrive - UGent/RustiFlow/literature/183.pdf\n",
      "Processing /mnt/c/Users/mverkerk/OneDrive - UGent/RustiFlow/literature/184.pdf\n",
      "Processing /mnt/c/Users/mverkerk/OneDrive - UGent/RustiFlow/literature/185.pdf\n",
      "Processing /mnt/c/Users/mverkerk/OneDrive - UGent/RustiFlow/literature/186.pdf\n",
      "Processing /mnt/c/Users/mverkerk/OneDrive - UGent/RustiFlow/literature/187.pdf\n",
      "Processing /mnt/c/Users/mverkerk/OneDrive - UGent/RustiFlow/literature/188.pdf\n",
      "Processing /mnt/c/Users/mverkerk/OneDrive - UGent/RustiFlow/literature/189.pdf\n",
      "Processing /mnt/c/Users/mverkerk/OneDrive - UGent/RustiFlow/literature/190.pdf\n",
      "Processing /mnt/c/Users/mverkerk/OneDrive - UGent/RustiFlow/literature/191.pdf\n",
      "Processing /mnt/c/Users/mverkerk/OneDrive - UGent/RustiFlow/literature/192.pdf\n",
      "Processing /mnt/c/Users/mverkerk/OneDrive - UGent/RustiFlow/literature/193.pdf\n",
      "Processing /mnt/c/Users/mverkerk/OneDrive - UGent/RustiFlow/literature/194.pdf\n",
      "Processing /mnt/c/Users/mverkerk/OneDrive - UGent/RustiFlow/literature/195.pdf\n",
      "Processing /mnt/c/Users/mverkerk/OneDrive - UGent/RustiFlow/literature/196.pdf\n",
      "Processing /mnt/c/Users/mverkerk/OneDrive - UGent/RustiFlow/literature/197.pdf\n",
      "Processing /mnt/c/Users/mverkerk/OneDrive - UGent/RustiFlow/literature/198.pdf\n",
      "Processing /mnt/c/Users/mverkerk/OneDrive - UGent/RustiFlow/literature/199.pdf\n",
      "Processing /mnt/c/Users/mverkerk/OneDrive - UGent/RustiFlow/literature/200.pdf\n",
      "Processing /mnt/c/Users/mverkerk/OneDrive - UGent/RustiFlow/literature/46.pdf\n",
      "Processing /mnt/c/Users/mverkerk/OneDrive - UGent/RustiFlow/literature/47.pdf\n",
      "Processing /mnt/c/Users/mverkerk/OneDrive - UGent/RustiFlow/literature/48.pdf\n",
      "Processing /mnt/c/Users/mverkerk/OneDrive - UGent/RustiFlow/literature/49.pdf\n",
      "Processing /mnt/c/Users/mverkerk/OneDrive - UGent/RustiFlow/literature/50.pdf\n",
      "Processing /mnt/c/Users/mverkerk/OneDrive - UGent/RustiFlow/literature/51.pdf\n",
      "Processing /mnt/c/Users/mverkerk/OneDrive - UGent/RustiFlow/literature/52.pdf\n",
      "Processing /mnt/c/Users/mverkerk/OneDrive - UGent/RustiFlow/literature/53.pdf\n",
      "Processing /mnt/c/Users/mverkerk/OneDrive - UGent/RustiFlow/literature/54.pdf\n",
      "Processing /mnt/c/Users/mverkerk/OneDrive - UGent/RustiFlow/literature/55.pdf\n",
      "Processing /mnt/c/Users/mverkerk/OneDrive - UGent/RustiFlow/literature/56.pdf\n",
      "Processing /mnt/c/Users/mverkerk/OneDrive - UGent/RustiFlow/literature/57.pdf\n",
      "Processing /mnt/c/Users/mverkerk/OneDrive - UGent/RustiFlow/literature/58.pdf\n",
      "Processing /mnt/c/Users/mverkerk/OneDrive - UGent/RustiFlow/literature/59.pdf\n",
      "Processing /mnt/c/Users/mverkerk/OneDrive - UGent/RustiFlow/literature/60.pdf\n",
      "Processing /mnt/c/Users/mverkerk/OneDrive - UGent/RustiFlow/literature/61.pdf\n",
      "Processing /mnt/c/Users/mverkerk/OneDrive - UGent/RustiFlow/literature/62.pdf\n",
      "Processing /mnt/c/Users/mverkerk/OneDrive - UGent/RustiFlow/literature/63.pdf\n",
      "Processing /mnt/c/Users/mverkerk/OneDrive - UGent/RustiFlow/literature/64.pdf\n",
      "Processing /mnt/c/Users/mverkerk/OneDrive - UGent/RustiFlow/literature/65.pdf\n",
      "Processing /mnt/c/Users/mverkerk/OneDrive - UGent/RustiFlow/literature/66.pdf\n",
      "Processing /mnt/c/Users/mverkerk/OneDrive - UGent/RustiFlow/literature/67.pdf\n",
      "Processing /mnt/c/Users/mverkerk/OneDrive - UGent/RustiFlow/literature/68.pdf\n",
      "Processing /mnt/c/Users/mverkerk/OneDrive - UGent/RustiFlow/literature/69.pdf\n",
      "Processing /mnt/c/Users/mverkerk/OneDrive - UGent/RustiFlow/literature/70.pdf\n",
      "Processing /mnt/c/Users/mverkerk/OneDrive - UGent/RustiFlow/literature/71.pdf\n",
      "Processing /mnt/c/Users/mverkerk/OneDrive - UGent/RustiFlow/literature/72.pdf\n",
      "Processing /mnt/c/Users/mverkerk/OneDrive - UGent/RustiFlow/literature/73.pdf\n",
      "Processing /mnt/c/Users/mverkerk/OneDrive - UGent/RustiFlow/literature/74.pdf\n",
      "Processing /mnt/c/Users/mverkerk/OneDrive - UGent/RustiFlow/literature/75.pdf\n",
      "Processing /mnt/c/Users/mverkerk/OneDrive - UGent/RustiFlow/literature/76.pdf\n",
      "Processing /mnt/c/Users/mverkerk/OneDrive - UGent/RustiFlow/literature/77.pdf\n",
      "Processing /mnt/c/Users/mverkerk/OneDrive - UGent/RustiFlow/literature/78.pdf\n",
      "Processing /mnt/c/Users/mverkerk/OneDrive - UGent/RustiFlow/literature/79.pdf\n",
      "Processing /mnt/c/Users/mverkerk/OneDrive - UGent/RustiFlow/literature/80.pdf\n",
      "Processing /mnt/c/Users/mverkerk/OneDrive - UGent/RustiFlow/literature/81.pdf\n",
      "Processing /mnt/c/Users/mverkerk/OneDrive - UGent/RustiFlow/literature/82.pdf\n",
      "Processing /mnt/c/Users/mverkerk/OneDrive - UGent/RustiFlow/literature/83.pdf\n",
      "Processing /mnt/c/Users/mverkerk/OneDrive - UGent/RustiFlow/literature/84.pdf\n",
      "Processing /mnt/c/Users/mverkerk/OneDrive - UGent/RustiFlow/literature/85.pdf\n",
      "Processing /mnt/c/Users/mverkerk/OneDrive - UGent/RustiFlow/literature/86.pdf\n",
      "Processing /mnt/c/Users/mverkerk/OneDrive - UGent/RustiFlow/literature/87.pdf\n",
      "Processing /mnt/c/Users/mverkerk/OneDrive - UGent/RustiFlow/literature/88.pdf\n",
      "Processing /mnt/c/Users/mverkerk/OneDrive - UGent/RustiFlow/literature/89.pdf\n",
      "Processing /mnt/c/Users/mverkerk/OneDrive - UGent/RustiFlow/literature/90.pdf\n",
      "Processing /mnt/c/Users/mverkerk/OneDrive - UGent/RustiFlow/literature/91.pdf\n",
      "Processing /mnt/c/Users/mverkerk/OneDrive - UGent/RustiFlow/literature/92.pdf\n",
      "Processing /mnt/c/Users/mverkerk/OneDrive - UGent/RustiFlow/literature/93.pdf\n",
      "Processing /mnt/c/Users/mverkerk/OneDrive - UGent/RustiFlow/literature/94.pdf\n",
      "Processing /mnt/c/Users/mverkerk/OneDrive - UGent/RustiFlow/literature/95.pdf\n",
      "Processing /mnt/c/Users/mverkerk/OneDrive - UGent/RustiFlow/literature/96.pdf\n",
      "Processing /mnt/c/Users/mverkerk/OneDrive - UGent/RustiFlow/literature/97.pdf\n",
      "Processing /mnt/c/Users/mverkerk/OneDrive - UGent/RustiFlow/literature/98.pdf\n",
      "Processing /mnt/c/Users/mverkerk/OneDrive - UGent/RustiFlow/literature/99.pdf\n",
      "Combined PDF saved to /mnt/c/Users/mverkerk/OneDrive - UGent/RustiFlow/literature/combined_first_pages.pdf\n"
     ]
    }
   ],
   "source": [
    "import re\n",
    "import pypdf\n",
    "from tqdm import tqdm\n",
    "\n",
    "# Create a PdfWriter object\n",
    "pdf_writer = pypdf.PdfWriter()\n",
    "\n",
    "for file in files:\n",
    "    file_path = os.path.join(paper_dir, file)\n",
    "    print(f\"Processing {file_path}\")\n",
    "    try:\n",
    "        reader = pypdf.PdfReader(file_path)\n",
    "\n",
    "        # Add the first page of the current PDF to the writer\n",
    "        pdf_writer.add_page(reader.pages[0])\n",
    "    except Exception as e:\n",
    "        print(f\"Failed to process {file_path}: {e}\")\n",
    "        continue\n",
    "\n",
    "# Save the combined PDF to a file\n",
    "output_path = os.path.join(paper_dir, \"combined_first_pages.pdf\")\n",
    "with open(output_path, \"wb\") as output_pdf:\n",
    "    pdf_writer.write(output_pdf)\n",
    "\n",
    "print(f\"Combined PDF saved to {output_path}\")\n"
   ]
  }
 ],
 "metadata": {
  "kernelspec": {
   "display_name": ".venv",
   "language": "python",
   "name": "python3"
  },
  "language_info": {
   "codemirror_mode": {
    "name": "ipython",
    "version": 3
   },
   "file_extension": ".py",
   "mimetype": "text/x-python",
   "name": "python",
   "nbconvert_exporter": "python",
   "pygments_lexer": "ipython3",
   "version": "3.10.12"
  }
 },
 "nbformat": 4,
 "nbformat_minor": 2
}
